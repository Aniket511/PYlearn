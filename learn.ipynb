{
 "cells": [
  {
   "cell_type": "code",
   "execution_count": 88,
   "metadata": {},
   "outputs": [
    {
     "name": "stdout",
     "output_type": "stream",
     "text": [
      "5\n"
     ]
    }
   ],
   "source": [
    "mysum = 0\n",
    "for i in range(5,11,2):\n",
    "    mysum += i\n",
    "    if mysum == 5:\n",
    "        break\n",
    "        mysum +=1\n",
    "print(mysum)"
   ]
  },
  {
   "cell_type": "code",
   "execution_count": 89,
   "metadata": {},
   "outputs": [
    {
     "name": "stdout",
     "output_type": "stream",
     "text": [
      "3\n"
     ]
    }
   ],
   "source": [
    "count1 = 0\n",
    "for i in range(5):\n",
    "    if i % 2 == 0:\n",
    "        count1 +=1\n",
    "print(count1)"
   ]
  },
  {
   "cell_type": "code",
   "execution_count": 90,
   "metadata": {},
   "outputs": [
    {
     "name": "stdout",
     "output_type": "stream",
     "text": [
      "5\n"
     ]
    }
   ],
   "source": [
    "count2 = 0\n",
    "for i in range(10):\n",
    "    if i % 2 == 0:\n",
    "        count2 +=1\n",
    "print(count2)"
   ]
  },
  {
   "cell_type": "code",
   "execution_count": 91,
   "metadata": {},
   "outputs": [
    {
     "name": "stdout",
     "output_type": "stream",
     "text": [
      "2\n"
     ]
    }
   ],
   "source": [
    "count3 = 0\n",
    "for i in range(2,9,3):\n",
    "    if i % 2 == 0:\n",
    "        count3 +=1\n",
    "print(count3)"
   ]
  },
  {
   "cell_type": "code",
   "execution_count": 92,
   "metadata": {},
   "outputs": [
    {
     "name": "stdout",
     "output_type": "stream",
     "text": [
      "5\n"
     ]
    }
   ],
   "source": [
    "count4 = 0\n",
    "for i in range(-4,6,2):\n",
    "    if i % 2 == 0:\n",
    "        count4 +=1\n",
    "print(count4)       "
   ]
  },
  {
   "cell_type": "code",
   "execution_count": 93,
   "metadata": {},
   "outputs": [
    {
     "name": "stdout",
     "output_type": "stream",
     "text": [
      "1 6\n",
      "2 8\n",
      "3 10\n",
      "4 12\n",
      "5 14\n",
      "5\n"
     ]
    }
   ],
   "source": [
    "count5 = 0\n",
    "for i in range(5,16):\n",
    "    if i % 2 == 0:\n",
    "        count5 +=1\n",
    "        print(count5,i)\n",
    "print(count5)"
   ]
  },
  {
   "cell_type": "code",
   "execution_count": 94,
   "metadata": {},
   "outputs": [
    {
     "name": "stdout",
     "output_type": "stream",
     "text": [
      "There are lot of i and u\n",
      "There are lot of i and u\n"
     ]
    }
   ],
   "source": [
    "s = 'demo loops - fruit loops'\n",
    "for index in range(len(s)):\n",
    "    if s[index] == 'i' or s[index] == 'u':\n",
    "        print('There are lot of i and u')"
   ]
  },
  {
   "cell_type": "code",
   "execution_count": 95,
   "metadata": {},
   "outputs": [
    {
     "name": "stdout",
     "output_type": "stream",
     "text": [
      "There are a lot of i and u\n",
      "There are a lot of i and u\n"
     ]
    }
   ],
   "source": [
    "for i in s:\n",
    "    if i in 'iu':\n",
    "        print(\"There are a lot of i and u\")"
   ]
  },
  {
   "cell_type": "code",
   "execution_count": 96,
   "metadata": {},
   "outputs": [
    {
     "name": "stdout",
     "output_type": "stream",
     "text": [
      "Lot of i and u\n",
      "Lot of i and u\n"
     ]
    }
   ],
   "source": [
    "for char in s:\n",
    "    if char == 'i' or char == 'u':\n",
    "        print('Lot of i and u')"
   ]
  },
  {
   "cell_type": "code",
   "execution_count": 97,
   "metadata": {},
   "outputs": [
    {
     "name": "stdout",
     "output_type": "stream",
     "text": [
      "Give me a p: p\n",
      "Give me an i: i\n",
      "Give me an n: n\n",
      "Give me an e: e\n",
      "What does that spell?\n",
      "pine !!!\n",
      "pine !!!\n",
      "pine !!!\n",
      "pine !!!\n",
      "pine !!!\n",
      "pine !!!\n",
      "pine !!!\n",
      "pine !!!\n",
      "pine !!!\n"
     ]
    }
   ],
   "source": [
    "\n",
    "an_letters = \"aefhilmnorsxAEFHILMNORSX\"\n",
    "word = input(\"I will cheer for you! Enter a word: \")\n",
    "times = int(input(\"Enthusiasm level (1-10): \"))\n",
    "\n",
    "for c in word:\n",
    "    if c in an_letters:\n",
    "        print(f'Give me an {c}: {c}') # with f-strings\n",
    "    else:\n",
    "        print(f'Give me a {c}: {c}') # with f-strings\n",
    "print(\"What does that spell?\")\n",
    "for i in range(times):\n",
    "    print(word, \"!!!\")"
   ]
  },
  {
   "cell_type": "code",
   "execution_count": 98,
   "metadata": {},
   "outputs": [
    {
     "name": "stdout",
     "output_type": "stream",
     "text": [
      "5\n"
     ]
    }
   ],
   "source": [
    "s = 'abcdeaaaa'\n",
    "seen = ''\n",
    "for i in s:\n",
    "    if i not in seen:\n",
    "        seen += i\n",
    "print(len(seen))"
   ]
  },
  {
   "cell_type": "code",
   "execution_count": 99,
   "metadata": {},
   "outputs": [
    {
     "data": {
      "text/plain": [
       "4.999999999999999"
      ]
     },
     "execution_count": 99,
     "metadata": {},
     "output_type": "execute_result"
    }
   ],
   "source": [
    "125**(1/3)"
   ]
  },
  {
   "cell_type": "code",
   "execution_count": 100,
   "metadata": {},
   "outputs": [
    {
     "name": "stdout",
     "output_type": "stream",
     "text": [
      "Found perfect square\n"
     ]
    }
   ],
   "source": [
    "N=216\n",
    "a=1\n",
    "while a**3 < N:\n",
    "    a+=1\n",
    "if a**3 == N:\n",
    "    print('Found perfect square')\n",
    "else:\n",
    "    print('Error')"
   ]
  },
  {
   "cell_type": "code",
   "execution_count": 101,
   "metadata": {},
   "outputs": [
    {
     "name": "stdout",
     "output_type": "stream",
     "text": [
      "10\n",
      "niuswdtfer\n"
     ]
    }
   ],
   "source": [
    "s='niunswdiutnfiuerwnf'\n",
    "seen=''\n",
    "for i in s:\n",
    "    if i not in seen:\n",
    "        seen +=i\n",
    "print(len(seen))\n",
    "print(seen)"
   ]
  },
  {
   "cell_type": "code",
   "execution_count": 102,
   "metadata": {},
   "outputs": [],
   "source": [
    "l = [98,76,56,45,24,12,34,67,34]\n",
    "for i in range(len(l)):\n",
    "    for j in range(i+1,len(l)):\n",
    "        if l[i] > l[j]:\n",
    "            t = l[i]\n",
    "            l[i] = l[j]\n",
    "            l[j] = t"
   ]
  },
  {
   "cell_type": "code",
   "execution_count": 103,
   "metadata": {},
   "outputs": [
    {
     "data": {
      "text/plain": [
       "[12, 24, 34, 34, 45, 56, 67, 76, 98]"
      ]
     },
     "execution_count": 103,
     "metadata": {},
     "output_type": "execute_result"
    }
   ],
   "source": [
    "l"
   ]
  },
  {
   "cell_type": "code",
   "execution_count": 104,
   "metadata": {},
   "outputs": [
    {
     "name": "stdout",
     "output_type": "stream",
     "text": [
      "Found perfect square\n"
     ]
    }
   ],
   "source": [
    "guess = 0\n",
    "neg_flag = False\n",
    "x=int(input(\"Enter your guess:\"))\n",
    "while guess**2 < x:\n",
    "    guess +=1\n",
    "if guess**2 == x:\n",
    "    print('Found perfect square')\n",
    "else:\n",
    "    print('Error')\n",
    "if x < 0:\n",
    "    neg_flag=True\n",
    "    print(\"Negative\")"
   ]
  },
  {
   "cell_type": "code",
   "execution_count": 105,
   "metadata": {},
   "outputs": [
    {
     "name": "stdout",
     "output_type": "stream",
     "text": [
      "Found Secret number\n"
     ]
    }
   ],
   "source": [
    "secret_number = 6\n",
    "found = False\n",
    "for i in range(1,11):\n",
    "    if i == secret_number:\n",
    "        found = True\n",
    "        print('Found Secret number')\n",
    "if found == False:\n",
    "    print('Not found')"
   ]
  },
  {
   "cell_type": "code",
   "execution_count": 106,
   "metadata": {},
   "outputs": [
    {
     "name": "stdout",
     "output_type": "stream",
     "text": [
      "Not found\n"
     ]
    }
   ],
   "source": [
    "secret_number = 63\n",
    "found = False\n",
    "for i in range(1,11):\n",
    "    if i == secret_number:\n",
    "        found = True\n",
    "        print('Found Secret number')\n",
    "if found == False:\n",
    "    print('Not found')"
   ]
  },
  {
   "cell_type": "code",
   "execution_count": 107,
   "metadata": {},
   "outputs": [
    {
     "name": "stdout",
     "output_type": "stream",
     "text": [
      "Alisa sold 3 tickets\n",
      "Ben sold 1 tickets\n",
      "Cindy sold 6 tickets\n"
     ]
    }
   ],
   "source": [
    "for alisa in range(11):\n",
    "    for ben in range(11):\n",
    "        for cindy in range(11):\n",
    "            total = (alisa + ben + cindy == 10)\n",
    "            few_2 = (ben == alisa - 2 )\n",
    "            many_2 = (cindy == alisa * 2)\n",
    "            if total and few_2 and many_2:\n",
    "                print(f'Alisa sold {alisa} tickets')\n",
    "                print(f'Ben sold {ben} tickets')\n",
    "                print(f'Cindy sold {cindy} tickets')"
   ]
  },
  {
   "cell_type": "code",
   "execution_count": 108,
   "metadata": {},
   "outputs": [
    {
     "name": "stdout",
     "output_type": "stream",
     "text": [
      "Alisa sold 255 tickets\n",
      "Ben sold 235 tickets\n",
      "Cindy sold 510 tickets\n"
     ]
    }
   ],
   "source": [
    "for alisa in range(1001):\n",
    "    ben = max(alisa-20,0)\n",
    "    cindy = alisa*2\n",
    "    if alisa + ben + cindy == 1000:\n",
    "        print(f'Alisa sold {alisa} tickets')\n",
    "        print(f'Ben sold {ben} tickets')\n",
    "        print(f'Cindy sold {cindy} tickets')"
   ]
  },
  {
   "cell_type": "code",
   "execution_count": 109,
   "metadata": {},
   "outputs": [
    {
     "name": "stdout",
     "output_type": "stream",
     "text": [
      "1\n",
      "2\n",
      "4\n",
      "8\n",
      "16\n",
      "32\n",
      "64\n",
      "128\n",
      "256\n"
     ]
    }
   ],
   "source": [
    "for i in range(9):\n",
    "    print(2**i)"
   ]
  },
  {
   "cell_type": "code",
   "execution_count": 110,
   "metadata": {},
   "outputs": [
    {
     "name": "stdout",
     "output_type": "stream",
     "text": [
      "10011100000011\n"
     ]
    }
   ],
   "source": [
    "num = 12345\n",
    "result = ''\n",
    "if num == 0:\n",
    "    result = '0'\n",
    "while num > 0:\n",
    "    result += str(num%2)\n",
    "    num = num //2 \n",
    "print(result)"
   ]
  },
  {
   "cell_type": "code",
   "execution_count": 111,
   "metadata": {},
   "outputs": [
    {
     "name": "stdout",
     "output_type": "stream",
     "text": [
      "36\n"
     ]
    }
   ],
   "source": [
    "a=2\n",
    "b=4\n",
    "c=6\n",
    "total = (a+b)*c\n",
    "print(total)"
   ]
  },
  {
   "cell_type": "code",
   "execution_count": 112,
   "metadata": {},
   "outputs": [
    {
     "name": "stdout",
     "output_type": "stream",
     "text": [
      "Positive\n"
     ]
    }
   ],
   "source": [
    "number = int(input(\"enter a number:\"))\n",
    "if number > 0:\n",
    "    print('Positive')\n",
    "elif number < 0:\n",
    "    print('Negative')\n",
    "else:\n",
    "    print('Zero')"
   ]
  },
  {
   "cell_type": "code",
   "execution_count": 113,
   "metadata": {},
   "outputs": [
    {
     "name": "stdout",
     "output_type": "stream",
     "text": [
      "Hello World\n",
      "Hello World\n",
      "Hello World\n",
      "Hello World\n",
      "Hello World\n",
      "Hello World\n",
      "Hello World\n",
      "Hello World\n",
      "Hello World\n",
      "Hello World\n",
      "Hello World\n",
      "Hello World\n",
      "Hello World\n",
      "Hello World\n",
      "Hello World\n",
      "Hello World\n",
      "Hello World\n",
      "Hello World\n",
      "Hello World\n",
      "Hello World\n",
      "Hello World\n",
      "Hello World\n",
      "Hello World\n",
      "Hello World\n",
      "Hello World\n",
      "Hello World\n",
      "Hello World\n",
      "Hello World\n",
      "Hello World\n",
      "Hello World\n",
      "Hello World\n",
      "Hello World\n",
      "Hello World\n",
      "Hello World\n",
      "Hello World\n",
      "Hello World\n",
      "Hello World\n",
      "Hello World\n",
      "Hello World\n",
      "Hello World\n",
      "Hello World\n",
      "Hello World\n",
      "Hello World\n",
      "Hello World\n"
     ]
    }
   ],
   "source": [
    "N = int(input('Enter a number'))\n",
    "for i in range(N+1):\n",
    "    print(\"Hello World\")"
   ]
  },
  {
   "cell_type": "code",
   "execution_count": 114,
   "metadata": {},
   "outputs": [
    {
     "name": "stdout",
     "output_type": "stream",
     "text": [
      "Error\n"
     ]
    }
   ],
   "source": [
    "N = int(input(\"Enter a number:\"))\n",
    "i = 1\n",
    "while i**3 < N:\n",
    "    i +=1\n",
    "if i**3 == N:\n",
    "    print(f'The cube root of {N} is {i}')\n",
    "else:\n",
    "    print('Error')"
   ]
  },
  {
   "cell_type": "code",
   "execution_count": 115,
   "metadata": {},
   "outputs": [
    {
     "name": "stdout",
     "output_type": "stream",
     "text": [
      "acegi\n"
     ]
    }
   ],
   "source": [
    "my_str = \"abcdefghi\"\n",
    "my_str1 = ''\n",
    "for i in range(len(my_str)):\n",
    "    if i % 2 == 0:\n",
    "        my_str1 += my_str[i]\n",
    "print(my_str1)"
   ]
  },
  {
   "cell_type": "code",
   "execution_count": 116,
   "metadata": {},
   "outputs": [
    {
     "name": "stdout",
     "output_type": "stream",
     "text": [
      "Enter your yearly salary: 123000.0\n",
      "Enter the percent of your salary to save, as a decimal: 0.5\n",
      "Enter the cost of your dream house: 20000000.0\n",
      "391\n"
     ]
    }
   ],
   "source": [
    "yearly_salary = float(input(\"Enter your yearly salary\"))\n",
    "portion_saved = float(input(\"Enter the percent of your salary to save, as a decimal:\"))\n",
    "cost_of_dream_home = float(int(input('Enter the cost of your dream house:')))\n",
    "\n",
    "print('Enter your yearly salary:',yearly_salary)\n",
    "print(\"Enter the percent of your salary to save, as a decimal:\",portion_saved)\n",
    "print('Enter the cost of your dream house:',cost_of_dream_home)\n",
    "\n",
    "portion_of_down_payment = 0.25\n",
    "amount_saved = 0\n",
    "r = 0.05\n",
    "month = 0\n",
    "\n",
    "while amount_saved < (cost_of_dream_home * portion_of_down_payment):\n",
    "    amount_saved = amount_saved + ((yearly_salary / 12) * portion_saved) + (amount_saved * (r/12))\n",
    "    month +=1\n",
    "\n",
    "print(month)"
   ]
  },
  {
   "cell_type": "code",
   "execution_count": 117,
   "metadata": {},
   "outputs": [
    {
     "name": "stdout",
     "output_type": "stream",
     "text": [
      "Enter your yearly salary: 2000000\n",
      "Enter the percent of your salary to save, as a decimal: 0.4\n",
      "Enter the cost of your dream house: 45000000\n",
      "Enter the annual raise: 0.3\n",
      "Number of months: 50\n"
     ]
    }
   ],
   "source": [
    "yearly_salary = int(input(\"Enter your yearly salary\"))\n",
    "portion_saved = float(input(\"Enter the percent of your salary to save, as a decimal:\"))\n",
    "cost_of_dream_home = int(input('Enter the cost of your dream house:'))\n",
    "semi_annual_raise = float(input('Enter the annual raise:'))\n",
    "\n",
    "print('Enter your yearly salary:',yearly_salary)\n",
    "print(\"Enter the percent of your salary to save, as a decimal:\",portion_saved)\n",
    "print('Enter the cost of your dream house:',cost_of_dream_home)\n",
    "print('Enter the annual raise:',semi_annual_raise)\n",
    "\n",
    "portion_of_down_payment = 0.25\n",
    "amount_saved = 0\n",
    "r = 0.05\n",
    "month = 0\n",
    "\n",
    "while amount_saved < (cost_of_dream_home * portion_of_down_payment):\n",
    "    amount_saved = amount_saved + ((yearly_salary / 12 )* portion_saved) + (amount_saved * (r/12))\n",
    "    month +=1\n",
    "\n",
    "    if month % 6 == 0:\n",
    "        yearly_salary += (yearly_salary*semi_annual_raise)\n",
    "        \n",
    "\n",
    "print('Number of months:',month)"
   ]
  },
  {
   "cell_type": "code",
   "execution_count": 118,
   "metadata": {},
   "outputs": [
    {
     "name": "stdout",
     "output_type": "stream",
     "text": [
      "False\n",
      "0.9999999999999999 = 1.0\n"
     ]
    }
   ],
   "source": [
    "x = 0 \n",
    "for i in range(10):\n",
    "    x+=0.1\n",
    "print(x == 1)\n",
    "print(x,'=',10*0.1)"
   ]
  },
  {
   "cell_type": "code",
   "execution_count": 119,
   "metadata": {},
   "outputs": [
    {
     "name": "stdout",
     "output_type": "stream",
     "text": [
      "101101\n"
     ]
    }
   ],
   "source": [
    "number = int(input('Enter a number:'))\n",
    "bina = ''\n",
    "if number == 0 :\n",
    "    bina = 0\n",
    "while number > 0:\n",
    "    bina += str(number%2) # checks the remainder (either 1 or 0)\n",
    "    number //= 2 # divide the number by 2 and returns the remainder. e.g 240 becomes 120 then 60 then 30 till 0\n",
    "print(bina)"
   ]
  },
  {
   "cell_type": "code",
   "execution_count": 120,
   "metadata": {},
   "outputs": [
    {
     "data": {
      "text/plain": [
       "[0, 1, 2, 3, 4, 5, 6, 7, 8, 9]"
      ]
     },
     "execution_count": 120,
     "metadata": {},
     "output_type": "execute_result"
    }
   ],
   "source": [
    "list(range(10))"
   ]
  },
  {
   "cell_type": "code",
   "execution_count": 121,
   "metadata": {},
   "outputs": [
    {
     "name": "stdout",
     "output_type": "stream",
     "text": [
      "number is 34\n",
      "binary of 010001\n"
     ]
    }
   ],
   "source": [
    "number = int(input('enter a number:'))\n",
    "print(f'number is {number}')\n",
    "bina = ''\n",
    "is_neg = False\n",
    "if number < 0:\n",
    "    number = abs(number)\n",
    "    is_neg = True\n",
    "if number == 0 :\n",
    "    bina = 0\n",
    "while number > 0:\n",
    "    bina += str(number%2)\n",
    "    number //= 2\n",
    "if is_neg:\n",
    "    bina = '-' + bina\n",
    "print(f'binary of {bina}')"
   ]
  },
  {
   "cell_type": "code",
   "execution_count": 122,
   "metadata": {},
   "outputs": [
    {
     "name": "stdout",
     "output_type": "stream",
     "text": [
      "0.375\n",
      "0.75\n",
      "1.125\n",
      "1.5\n",
      "1.875\n",
      "2.25\n",
      "2.625\n",
      "3.0\n",
      "3.375\n",
      "3.75\n"
     ]
    }
   ],
   "source": [
    "for i in range(1,11):\n",
    "    print(0.375*i)"
   ]
  },
  {
   "cell_type": "code",
   "execution_count": 123,
   "metadata": {},
   "outputs": [
    {
     "name": "stdout",
     "output_type": "stream",
     "text": [
      "Remainder = 0.2349875\n",
      "Remainder = 0.469975\n",
      "Remainder = 0.93995\n",
      "Remainder = 0.8798999999999999\n",
      "Remainder = 0.7597999999999998\n",
      "Remainder = 0.5195999999999996\n",
      "Remainder = 0.039199999999999235\n",
      "Remainder = 0.07839999999999847\n",
      "Remainder = 0.15679999999999694\n",
      "Remainder = 0.3135999999999939\n",
      "Remainder = 0.6271999999999878\n",
      "Remainder = 0.25439999999997553\n",
      "Remainder = 0.5087999999999511\n",
      "Remainder = 0.01759999999990214\n",
      "Remainder = 0.03519999999980428\n",
      "Remainder = 0.07039999999960855\n",
      "Remainder = 0.1407999999992171\n",
      "Remainder = 0.2815999999984342\n",
      "Remainder = 0.5631999999968684\n",
      "Remainder = 0.12639999999373686\n",
      "Remainder = 0.2527999999874737\n",
      "Remainder = 0.5055999999749474\n",
      "Remainder = 0.011199999949894845\n",
      "Remainder = 0.02239999989978969\n",
      "Remainder = 0.04479999979957938\n",
      "Remainder = 0.08959999959915876\n",
      "Remainder = 0.17919999919831753\n",
      "Remainder = 0.35839999839663506\n",
      "Remainder = 0.7167999967932701\n",
      "Remainder = 0.4335999935865402\n",
      "Remainder = 0.8671999871730804\n",
      "Remainder = 0.7343999743461609\n",
      "Remainder = 0.4687999486923218\n",
      "Remainder = 0.9375998973846436\n",
      "Remainder = 0.8751997947692871\n",
      "Remainder = 0.7503995895385742\n",
      "Remainder = 0.5007991790771484\n",
      "Remainder = 0.001598358154296875\n",
      "Remainder = 0.00319671630859375\n",
      "Remainder = 0.0063934326171875\n",
      "Remainder = 0.012786865234375\n",
      "Remainder = 0.02557373046875\n",
      "Remainder = 0.0511474609375\n",
      "Remainder = 0.102294921875\n",
      "Remainder = 0.20458984375\n",
      "Remainder = 0.4091796875\n",
      "Remainder = 0.818359375\n",
      "Remainder = 0.63671875\n",
      "Remainder = 0.2734375\n",
      "Remainder = 0.546875\n",
      "Remainder = 0.09375\n",
      "Remainder = 0.1875\n",
      "Remainder = 0.375\n",
      "Remainder = 0.75\n",
      "Remainder = 0.5\n",
      "p is 55\n",
      "num is 4233158469746897\n",
      "num is 2116579234873448\n",
      "num is 1058289617436724\n",
      "num is 529144808718362\n",
      "num is 264572404359181\n",
      "num is 132286202179590\n",
      "num is 66143101089795\n",
      "num is 33071550544897\n",
      "num is 16535775272448\n",
      "num is 8267887636224\n",
      "num is 4133943818112\n",
      "num is 2066971909056\n",
      "num is 1033485954528\n",
      "num is 516742977264\n",
      "num is 258371488632\n",
      "num is 129185744316\n",
      "num is 64592872158\n",
      "num is 32296436079\n",
      "num is 16148218039\n",
      "num is 8074109019\n",
      "num is 4037054509\n",
      "num is 2018527254\n",
      "num is 1009263627\n",
      "num is 504631813\n",
      "num is 252315906\n",
      "num is 126157953\n",
      "num is 63078976\n",
      "num is 31539488\n",
      "num is 15769744\n",
      "num is 7884872\n",
      "num is 3942436\n",
      "num is 1971218\n",
      "num is 985609\n",
      "num is 492804\n",
      "num is 246402\n",
      "num is 123201\n",
      "num is 61600\n",
      "num is 30800\n",
      "num is 15400\n",
      "num is 7700\n",
      "num is 3850\n",
      "num is 1925\n",
      "num is 962\n",
      "num is 481\n",
      "num is 240\n",
      "num is 120\n",
      "num is 60\n",
      "num is 30\n",
      "num is 15\n",
      "num is 7\n",
      "num is 3\n",
      "num is 1\n",
      "num is 0\n",
      "len(result) is 53\n",
      "p - len(result) is 2\n",
      "result is  011110000101000001001000000101101111000000000110100011\n",
      "result is  0011110000101000001001000000101101111000000000110100011\n",
      "The binary representation of the decimal 0.2349875 is .0011110000101000001001000000101101111000000000110100011\n"
     ]
    }
   ],
   "source": [
    "x = 0.2349875#float(input('Enter the number:'))\n",
    "p = 0\n",
    "while ((2**p)*x)%1 != 0:\n",
    "    print('Remainder = ' + str((2**p)*x - int((2**p)*x)))\n",
    "    p += 1\n",
    "print('p is',p)\n",
    "num = int(x*(2**p))\n",
    "result = ''\n",
    "if num == 0:\n",
    "    result = '0'\n",
    "while num > 0:\n",
    "    result = str(num%2) + result\n",
    "    num = num//2\n",
    "    print('num is',num)\n",
    "print('len(result) is',len(result))\n",
    "print('p - len(result) is',p - len(result))\n",
    "for i in range(p - len(result)):\n",
    "    result = '0' + result\n",
    "    print('result is ',result)\n",
    "result = result[0:-p] + '.' + result[-p:]\n",
    "print('The binary representation of the decimal ' + str(x) + ' is ' + str(result))"
   ]
  },
  {
   "cell_type": "code",
   "execution_count": 124,
   "metadata": {},
   "outputs": [
    {
     "data": {
      "text/plain": [
       "8466316939493795"
      ]
     },
     "execution_count": 124,
     "metadata": {},
     "output_type": "execute_result"
    }
   ],
   "source": [
    "0.2349875*(2**55)\n",
    "4233158469746897\n",
    "8466316939493795"
   ]
  },
  {
   "cell_type": "code",
   "execution_count": 125,
   "metadata": {},
   "outputs": [
    {
     "data": {
      "text/plain": [
       "2.5"
      ]
     },
     "execution_count": 125,
     "metadata": {},
     "output_type": "execute_result"
    }
   ],
   "source": [
    "(2**2)*0.625"
   ]
  },
  {
   "cell_type": "code",
   "execution_count": 126,
   "metadata": {},
   "outputs": [
    {
     "data": {
      "text/plain": [
       "2"
      ]
     },
     "execution_count": 126,
     "metadata": {},
     "output_type": "execute_result"
    }
   ],
   "source": [
    "int((2**2)*0.625)"
   ]
  },
  {
   "cell_type": "code",
   "execution_count": 127,
   "metadata": {},
   "outputs": [
    {
     "name": "stdout",
     "output_type": "stream",
     "text": [
      "2.236067999947693\n"
     ]
    }
   ],
   "source": [
    "i = 0\n",
    "while i ** 2 < 5:\n",
    "    i += 0.0000001\n",
    "print(i)"
   ]
  },
  {
   "cell_type": "code",
   "execution_count": 129,
   "metadata": {},
   "outputs": [
    {
     "name": "stdout",
     "output_type": "stream",
     "text": [
      "number of gussess is 0\n",
      "0.0 is close t osquare root of x\n"
     ]
    }
   ],
   "source": [
    "x = 54321\n",
    "epsilon = 0.01\n",
    "guess = 0.0\n",
    "num_of_guess = 0\n",
    "increment = 0.0001\n",
    "\n",
    "while abs(guess**2 - x) >= epsilon and guess** 2 > x:\n",
    "    guess += increment\n",
    "    num_of_guess += 1\n",
    "\n",
    "print(f'number of gussess is {num_of_guess}')\n",
    "print(f'{guess} is close t osquare root of x')"
   ]
  },
  {
   "cell_type": "code",
   "execution_count": 130,
   "metadata": {},
   "outputs": [
    {
     "name": "stdout",
     "output_type": "stream",
     "text": [
      "aceg\n"
     ]
    }
   ],
   "source": [
    "my_str = 'abcdefg'\n",
    "my_str2 = ''\n",
    "for i in range(len(my_str)):\n",
    "    if i % 2 == 0:\n",
    "        my_str2 += my_str[i]\n",
    "print(my_str2)"
   ]
  },
  {
   "cell_type": "code",
   "execution_count": 13,
   "metadata": {},
   "outputs": [
    {
     "name": "stdout",
     "output_type": "stream",
     "text": [
      "num_guesses = 60000000\n",
      "6.0000000026695055 is close to square root of 36\n"
     ]
    }
   ],
   "source": [
    "x = 36\n",
    "epsilon = 0.000001\n",
    "num_guesses = 0\n",
    "guess = 0.0\n",
    "increment = 0.0000001  # try with 0.00001\n",
    "while abs(guess**2 - x) >= epsilon and guess**2 <= x:\n",
    "    guess += increment\n",
    "    num_guesses += 1\n",
    "print(f'num_guesses = {num_guesses}')\n",
    "if abs(guess**2 - x) >= epsilon:\n",
    "    print(f'Failed on square root of {x}')\n",
    "    print(f'Last guess was {guess}')\n",
    "    print(f'Last guess squared is {guess*guess}')\n",
    "else:\n",
    "    print(f'{guess} is close to square root of {x}')"
   ]
  },
  {
   "cell_type": "code",
   "execution_count": 45,
   "metadata": {},
   "outputs": [
    {
     "name": "stdout",
     "output_type": "stream",
     "text": [
      "number of guesses is  61\n",
      "737119.7034695195 is close to the root of x 543345457243\n"
     ]
    }
   ],
   "source": [
    "x = 543345457243\n",
    "low = 0\n",
    "high = x\n",
    "guess = (high + low) /2.0\n",
    "no_of_guess = 0\n",
    "epsilon = 0.01\n",
    "while abs(guess**2 - x) > epsilon:\n",
    "    no_of_guess += 1\n",
    "    if guess**2 > x:\n",
    "        high = guess\n",
    "    else:\n",
    "        low = guess\n",
    "    guess = (low + high) / 2\n",
    "print('number of guesses is ',no_of_guess)\n",
    "print(guess,'is close to the root of x',x)"
   ]
  },
  {
   "cell_type": "code",
   "execution_count": 50,
   "metadata": {},
   "outputs": [
    {
     "name": "stdout",
     "output_type": "stream",
     "text": [
      "0.703125 is close to root of 0.5\n"
     ]
    }
   ],
   "source": [
    "x = 0.5\n",
    "high = 1\n",
    "low = x\n",
    "epsilon = 0.01\n",
    "guess = (high + low)/2\n",
    "while abs(guess ** 2 - x) > epsilon:\n",
    "    if guess ** 2 > x:\n",
    "        high = guess\n",
    "    else:\n",
    "        low = guess\n",
    "    guess = (high + low) / 2\n",
    "print(f'{guess} is close to root of {x}')"
   ]
  },
  {
   "cell_type": "code",
   "execution_count": 66,
   "metadata": {},
   "outputs": [
    {
     "name": "stdout",
     "output_type": "stream",
     "text": [
      "14\n",
      "3.000091552734375 is the closest cube root of 27\n"
     ]
    }
   ],
   "source": [
    "cube = 27\n",
    "high = cube\n",
    "low = 0\n",
    "epsilon = 0.01\n",
    "guess = (high + low)/2\n",
    "no_of_guesses = 0\n",
    "\n",
    "while abs(guess**3 - cube) > epsilon:\n",
    "    if guess**3 > cube:\n",
    "        high = guess\n",
    "    else:\n",
    "        low = guess\n",
    "    no_of_guesses += 1\n",
    "    guess = (high + low)/2\n",
    "print(no_of_guesses)\n",
    "print(f'{guess} is the closest cube root of {cube}')"
   ]
  },
  {
   "cell_type": "code",
   "execution_count": 77,
   "metadata": {},
   "outputs": [
    {
     "name": "stdout",
     "output_type": "stream",
     "text": [
      "number of guesses is 10\n",
      "square root of 54321 is 233.06867027451543\n"
     ]
    }
   ],
   "source": [
    "k = 54321\n",
    "guess = k/2\n",
    "epsilon = 0.01\n",
    "num_of_guesses = 0\n",
    "while abs(guess*guess - k) > epsilon:\n",
    "    num_of_guesses += 1\n",
    "    guess = guess - (((guess**2)- k)/(2*guess))\n",
    "print('number of guesses is {}'.format(num_of_guesses))\n",
    "print('square root of {} is {}'.format(k,guess))"
   ]
  },
  {
   "cell_type": "code",
   "execution_count": 34,
   "metadata": {},
   "outputs": [
    {
     "name": "stdout",
     "output_type": "stream",
     "text": [
      "The number of candies sold by alissa, ben and cindy is 3, 1, 6 respectively\n"
     ]
    }
   ],
   "source": [
    "for alisa in range(11):\n",
    "    for ben in range(11):\n",
    "        for cindy in range(11):\n",
    "            total = (alisa + ben + cindy == 10)\n",
    "            few_2 = (ben == alisa-2)\n",
    "            twice_2 = (cindy == alisa*2)\n",
    "            if total and few_2 and twice_2:\n",
    "                print(f'The number of candies sold by alissa, ben and cindy is {alisa}, {ben}, {cindy} respectively')"
   ]
  },
  {
   "cell_type": "code",
   "execution_count": 39,
   "metadata": {},
   "outputs": [
    {
     "name": "stdout",
     "output_type": "stream",
     "text": [
      "Alyssa sold 255 tickets\n",
      "Ben sold 235 tickets\n",
      "Cindy sold 510 tickets\n"
     ]
    }
   ],
   "source": [
    "for alyssa in range(1001):\n",
    "    ben = max(alyssa - 20, 0)\n",
    "    cindy = alyssa * 2\n",
    "    if ben + cindy + alyssa == 1000:\n",
    "        print(\"Alyssa sold \" + str(alyssa) + \" tickets\")\n",
    "        print(\"Ben sold \" + str(ben) + \" tickets\")\n",
    "        print(\"Cindy sold \" + str(cindy) + \" tickets\")"
   ]
  },
  {
   "cell_type": "code",
   "execution_count": 92,
   "metadata": {},
   "outputs": [
    {
     "name": "stdout",
     "output_type": "stream",
     "text": [
      "10011010010\n"
     ]
    }
   ],
   "source": [
    "N = int(input('Enter your number'))\n",
    "a = ''\n",
    "while N > 0:\n",
    "    a = str(N%2) + a\n",
    "    N //= 2\n",
    "print(a)"
   ]
  },
  {
   "cell_type": "code",
   "execution_count": 93,
   "metadata": {},
   "outputs": [
    {
     "data": {
      "text/plain": [
       "'0b10011010010'"
      ]
     },
     "execution_count": 93,
     "metadata": {},
     "output_type": "execute_result"
    }
   ],
   "source": [
    "bin(1234)"
   ]
  },
  {
   "cell_type": "code",
   "execution_count": 32,
   "metadata": {},
   "outputs": [
    {
     "name": "stdout",
     "output_type": "stream",
     "text": [
      "8.062269999863949 806227\n"
     ]
    }
   ],
   "source": [
    "N = float(input('Enter your number:'))\n",
    "guess = 0\n",
    "epsilon = 0.0001\n",
    "increment = 0.00001\n",
    "count = 0\n",
    "while (guess**2) - N <epsilon:\n",
    "    guess += increment\n",
    "    count += 1\n",
    "print(guess, count)"
   ]
  },
  {
   "cell_type": "code",
   "execution_count": 44,
   "metadata": {},
   "outputs": [
    {
     "name": "stdout",
     "output_type": "stream",
     "text": [
      "The number 82 has no perfect square root\n"
     ]
    }
   ],
   "source": [
    "N = int(input('Enter your number:'))\n",
    "guess = 0\n",
    "is_neg = False\n",
    "if N < 0:\n",
    "    is_neg = True\n",
    "while guess**2 < N:\n",
    "    guess +=1\n",
    "if guess**2 == N:\n",
    "    print(f'The number {guess} is the square root of {N}')\n",
    "else:\n",
    "    print(f'The number {N} has no perfect square root')\n",
    "    if is_neg:\n",
    "        print(f'The number {N} is negative')"
   ]
  },
  {
   "cell_type": "code",
   "execution_count": 52,
   "metadata": {},
   "outputs": [
    {
     "name": "stdout",
     "output_type": "stream",
     "text": [
      "Not found\n"
     ]
    }
   ],
   "source": [
    "secret_number = 53\n",
    "found = False\n",
    "for i in range(1,11):\n",
    "    if i == secret_number:\n",
    "        found = True\n",
    "        print(i)\n",
    "if not found:\n",
    "    print('Not found')"
   ]
  },
  {
   "cell_type": "code",
   "execution_count": 55,
   "metadata": {},
   "outputs": [
    {
     "name": "stdout",
     "output_type": "stream",
     "text": [
      "3\n"
     ]
    }
   ],
   "source": [
    "cube = int(input('Enter you number'))\n",
    "for i in range(cube+1):\n",
    "    if i**3 == cube:\n",
    "        print(i)"
   ]
  },
  {
   "cell_type": "code",
   "execution_count": 66,
   "metadata": {},
   "outputs": [
    {
     "name": "stdout",
     "output_type": "stream",
     "text": [
      "-4\n"
     ]
    }
   ],
   "source": [
    "cube = int(input('Enter you number'))\n",
    "for i in range(abs(cube+1)):\n",
    "    if i**3 == abs(cube):\n",
    "        if cube < 0:\n",
    "            i = -i\n",
    "        print(i)"
   ]
  },
  {
   "cell_type": "code",
   "execution_count": 64,
   "metadata": {},
   "outputs": [
    {
     "data": {
      "text/plain": [
       "-64"
      ]
     },
     "execution_count": 64,
     "metadata": {},
     "output_type": "execute_result"
    }
   ],
   "source": [
    "-4**3"
   ]
  },
  {
   "cell_type": "code",
   "execution_count": 87,
   "metadata": {},
   "outputs": [
    {
     "name": "stdout",
     "output_type": "stream",
     "text": [
      "The number -27's cube root is -3\n"
     ]
    }
   ],
   "source": [
    "cube = int(input('Enter you number'))\n",
    "# we take all values from 0 to the value of cube hence +1 and abs because we will perform operation on hte positive value and then convert to negative value\n",
    "for i in range(abs(cube+1)):\n",
    "    #for all the values whose cube is greater than the cube value then we will discard those values and break out of the loop\n",
    "    #if the value of i**3 is equal to the cube then we also break out of the loop\n",
    "    if i**3 >= abs(cube):\n",
    "        # here either we break out of the loop because input has no whole number as cube root or we have found the number\n",
    "        break\n",
    "# now we chaec the value of i that exist after the break statement\n",
    "#if the value of i cubed is not equal to the value of cube then we will print that i is not a perfect swuare i.e. it has no whole number as a cube root value\n",
    "if i**3 != abs(cube):\n",
    "    print(f'Number {cube} is not a perfect cube')\n",
    "#else statement implies that the value of i is cube root of cube and hence we check if the value of cube is negative or not\n",
    "else:\n",
    "    # if the input value is negative, we first converted it to positive and now we will convert it back to negative\n",
    "    if cube < 0:\n",
    "        i = -i\n",
    "    print(f\"The number {cube}'s cube root is {i}\")"
   ]
  },
  {
   "cell_type": "code",
   "execution_count": 83,
   "metadata": {},
   "outputs": [
    {
     "name": "stdout",
     "output_type": "stream",
     "text": [
      "Cube root of -8 is -2\n"
     ]
    }
   ],
   "source": []
  },
  {
   "cell_type": "code",
   "execution_count": null,
   "metadata": {},
   "outputs": [],
   "source": []
  }
 ],
 "metadata": {
  "kernelspec": {
   "display_name": "Python 3",
   "language": "python",
   "name": "python3"
  },
  "language_info": {
   "codemirror_mode": {
    "name": "ipython",
    "version": 3
   },
   "file_extension": ".py",
   "mimetype": "text/x-python",
   "name": "python",
   "nbconvert_exporter": "python",
   "pygments_lexer": "ipython3",
   "version": "3.12.3"
  }
 },
 "nbformat": 4,
 "nbformat_minor": 2
}
