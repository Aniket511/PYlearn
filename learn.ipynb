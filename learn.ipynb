{
 "cells": [
  {
   "cell_type": "code",
   "execution_count": 25,
   "metadata": {},
   "outputs": [
    {
     "name": "stdout",
     "output_type": "stream",
     "text": [
      "5\n"
     ]
    }
   ],
   "source": [
    "mysum = 0\n",
    "for i in range(5,11,2):\n",
    "    mysum += i\n",
    "    if mysum == 5:\n",
    "        break\n",
    "        mysum +=1\n",
    "print(mysum)"
   ]
  },
  {
   "cell_type": "code",
   "execution_count": 26,
   "metadata": {},
   "outputs": [
    {
     "name": "stdout",
     "output_type": "stream",
     "text": [
      "3\n"
     ]
    }
   ],
   "source": [
    "count1 = 0\n",
    "for i in range(5):\n",
    "    if i % 2 == 0:\n",
    "        count1 +=1\n",
    "print(count1)"
   ]
  },
  {
   "cell_type": "code",
   "execution_count": 27,
   "metadata": {},
   "outputs": [
    {
     "name": "stdout",
     "output_type": "stream",
     "text": [
      "5\n"
     ]
    }
   ],
   "source": [
    "count2 = 0\n",
    "for i in range(10):\n",
    "    if i % 2 == 0:\n",
    "        count2 +=1\n",
    "print(count2)"
   ]
  },
  {
   "cell_type": "code",
   "execution_count": 28,
   "metadata": {},
   "outputs": [
    {
     "name": "stdout",
     "output_type": "stream",
     "text": [
      "2\n"
     ]
    }
   ],
   "source": [
    "count3 = 0\n",
    "for i in range(2,9,3):\n",
    "    if i % 2 == 0:\n",
    "        count3 +=1\n",
    "print(count3)"
   ]
  },
  {
   "cell_type": "code",
   "execution_count": 29,
   "metadata": {},
   "outputs": [
    {
     "name": "stdout",
     "output_type": "stream",
     "text": [
      "5\n"
     ]
    }
   ],
   "source": [
    "count4 = 0\n",
    "for i in range(-4,6,2):\n",
    "    if i % 2 == 0:\n",
    "        count4 +=1\n",
    "print(count4)       "
   ]
  },
  {
   "cell_type": "code",
   "execution_count": 30,
   "metadata": {},
   "outputs": [
    {
     "name": "stdout",
     "output_type": "stream",
     "text": [
      "1 6\n",
      "2 8\n",
      "3 10\n",
      "4 12\n",
      "5 14\n",
      "5\n"
     ]
    }
   ],
   "source": [
    "count5 = 0\n",
    "for i in range(5,16):\n",
    "    if i % 2 == 0:\n",
    "        count5 +=1\n",
    "        print(count5,i)\n",
    "print(count5)"
   ]
  },
  {
   "cell_type": "code",
   "execution_count": 31,
   "metadata": {},
   "outputs": [
    {
     "name": "stdout",
     "output_type": "stream",
     "text": [
      "There are lot of i and u\n",
      "There are lot of i and u\n"
     ]
    }
   ],
   "source": [
    "s = 'demo loops - fruit loops'\n",
    "for index in range(len(s)):\n",
    "    if s[index] == 'i' or s[index] == 'u':\n",
    "        print('There are lot of i and u')"
   ]
  },
  {
   "cell_type": "code",
   "execution_count": 32,
   "metadata": {},
   "outputs": [
    {
     "name": "stdout",
     "output_type": "stream",
     "text": [
      "There are a lot of i and u\n",
      "There are a lot of i and u\n"
     ]
    }
   ],
   "source": [
    "for i in s:\n",
    "    if i in 'iu':\n",
    "        print(\"There are a lot of i and u\")"
   ]
  },
  {
   "cell_type": "code",
   "execution_count": 33,
   "metadata": {},
   "outputs": [
    {
     "name": "stdout",
     "output_type": "stream",
     "text": [
      "Lot of i and u\n",
      "Lot of i and u\n"
     ]
    }
   ],
   "source": [
    "for char in s:\n",
    "    if char == 'i' or char == 'u':\n",
    "        print('Lot of i and u')"
   ]
  },
  {
   "cell_type": "code",
   "execution_count": 34,
   "metadata": {},
   "outputs": [
    {
     "name": "stdout",
     "output_type": "stream",
     "text": [
      "Give me a p: p\n",
      "Give me an i: i\n",
      "Give me an n: n\n",
      "Give me an e: e\n",
      "What does that spell?\n",
      "pine !!!\n",
      "pine !!!\n",
      "pine !!!\n",
      "pine !!!\n"
     ]
    }
   ],
   "source": [
    "\n",
    "an_letters = \"aefhilmnorsxAEFHILMNORSX\"\n",
    "word = input(\"I will cheer for you! Enter a word: \")\n",
    "times = int(input(\"Enthusiasm level (1-10): \"))\n",
    "\n",
    "for c in word:\n",
    "    if c in an_letters:\n",
    "        print(f'Give me an {c}: {c}') # with f-strings\n",
    "    else:\n",
    "        print(f'Give me a {c}: {c}') # with f-strings\n",
    "print(\"What does that spell?\")\n",
    "for i in range(times):\n",
    "    print(word, \"!!!\")"
   ]
  },
  {
   "cell_type": "code",
   "execution_count": 35,
   "metadata": {},
   "outputs": [
    {
     "name": "stdout",
     "output_type": "stream",
     "text": [
      "5\n"
     ]
    }
   ],
   "source": [
    "s = 'abcdeaaaa'\n",
    "seen = ''\n",
    "for i in s:\n",
    "    if i not in seen:\n",
    "        seen += i\n",
    "print(len(seen))"
   ]
  },
  {
   "cell_type": "code",
   "execution_count": 36,
   "metadata": {},
   "outputs": [
    {
     "data": {
      "text/plain": [
       "4.999999999999999"
      ]
     },
     "execution_count": 36,
     "metadata": {},
     "output_type": "execute_result"
    }
   ],
   "source": [
    "125**(1/3)"
   ]
  },
  {
   "cell_type": "code",
   "execution_count": 37,
   "metadata": {},
   "outputs": [
    {
     "name": "stdout",
     "output_type": "stream",
     "text": [
      "Found perfect square\n"
     ]
    }
   ],
   "source": [
    "N=216\n",
    "a=1\n",
    "while a**3 < N:\n",
    "    a+=1\n",
    "if a**3 == N:\n",
    "    print('Found perfect square')\n",
    "else:\n",
    "    print('Error')"
   ]
  },
  {
   "cell_type": "code",
   "execution_count": 38,
   "metadata": {},
   "outputs": [
    {
     "name": "stdout",
     "output_type": "stream",
     "text": [
      "10\n",
      "niuswdtfer\n"
     ]
    }
   ],
   "source": [
    "s='niunswdiutnfiuerwnf'\n",
    "seen=''\n",
    "for i in s:\n",
    "    if i not in seen:\n",
    "        seen +=i\n",
    "print(len(seen))\n",
    "print(seen)"
   ]
  },
  {
   "cell_type": "code",
   "execution_count": 39,
   "metadata": {},
   "outputs": [],
   "source": [
    "l = [98,76,56,45,24,12,34,67,34]\n",
    "for i in range(len(l)):\n",
    "    for j in range(i+1,len(l)):\n",
    "        if l[i] > l[j]:\n",
    "            t = l[i]\n",
    "            l[i] = l[j]\n",
    "            l[j] = t"
   ]
  },
  {
   "cell_type": "code",
   "execution_count": 40,
   "metadata": {},
   "outputs": [
    {
     "data": {
      "text/plain": [
       "[12, 24, 34, 34, 45, 56, 67, 76, 98]"
      ]
     },
     "execution_count": 40,
     "metadata": {},
     "output_type": "execute_result"
    }
   ],
   "source": [
    "l"
   ]
  },
  {
   "cell_type": "code",
   "execution_count": 49,
   "metadata": {},
   "outputs": [
    {
     "name": "stdout",
     "output_type": "stream",
     "text": [
      "Found perfect square\n"
     ]
    }
   ],
   "source": [
    "guess = 0\n",
    "neg_flag = False\n",
    "x=int(input(\"Enter your guess:\"))\n",
    "while guess**2 < x:\n",
    "    guess +=1\n",
    "if guess**2 == x:\n",
    "    print('Found perfect square')\n",
    "else:\n",
    "    print('Error')\n",
    "if x < 0:\n",
    "    neg_flag=True\n",
    "    print(\"Negative\")"
   ]
  },
  {
   "cell_type": "code",
   "execution_count": 42,
   "metadata": {},
   "outputs": [
    {
     "name": "stdout",
     "output_type": "stream",
     "text": [
      "Found Secret number\n"
     ]
    }
   ],
   "source": [
    "secret_number = 6\n",
    "found = False\n",
    "for i in range(1,11):\n",
    "    if i == secret_number:\n",
    "        found = True\n",
    "        print('Found Secret number')\n",
    "if found == False:\n",
    "    print('Not found')"
   ]
  },
  {
   "cell_type": "code",
   "execution_count": 50,
   "metadata": {},
   "outputs": [
    {
     "name": "stdout",
     "output_type": "stream",
     "text": [
      "Not found\n"
     ]
    }
   ],
   "source": [
    "secret_number = 63\n",
    "found = False\n",
    "for i in range(1,11):\n",
    "    if i == secret_number:\n",
    "        found = True\n",
    "        print('Found Secret number')\n",
    "if found == False:\n",
    "    print('Not found')"
   ]
  },
  {
   "cell_type": "code",
   "execution_count": 43,
   "metadata": {},
   "outputs": [
    {
     "name": "stdout",
     "output_type": "stream",
     "text": [
      "Alisa sold 3 tickets\n",
      "Ben sold 1 tickets\n",
      "Cindy sold 6 tickets\n"
     ]
    }
   ],
   "source": [
    "for alisa in range(11):\n",
    "    for ben in range(11):\n",
    "        for cindy in range(11):\n",
    "            total = (alisa + ben + cindy == 10)\n",
    "            few_2 = (ben == alisa - 2 )\n",
    "            many_2 = (cindy == alisa * 2)\n",
    "            if total and few_2 and many_2:\n",
    "                print(f'Alisa sold {alisa} tickets')\n",
    "                print(f'Ben sold {ben} tickets')\n",
    "                print(f'Cindy sold {cindy} tickets')"
   ]
  },
  {
   "cell_type": "code",
   "execution_count": 44,
   "metadata": {},
   "outputs": [
    {
     "name": "stdout",
     "output_type": "stream",
     "text": [
      "Alisa sold 255 tickets\n",
      "Ben sold 235 tickets\n",
      "Cindy sold 510 tickets\n"
     ]
    }
   ],
   "source": [
    "for alisa in range(1001):\n",
    "    ben = max(alisa-20,0)\n",
    "    cindy = alisa*2\n",
    "    if alisa + ben + cindy == 1000:\n",
    "        print(f'Alisa sold {alisa} tickets')\n",
    "        print(f'Ben sold {ben} tickets')\n",
    "        print(f'Cindy sold {cindy} tickets')"
   ]
  },
  {
   "cell_type": "code",
   "execution_count": 1,
   "metadata": {},
   "outputs": [
    {
     "name": "stdout",
     "output_type": "stream",
     "text": [
      "1\n",
      "2\n",
      "4\n",
      "8\n",
      "16\n",
      "32\n",
      "64\n",
      "128\n",
      "256\n"
     ]
    }
   ],
   "source": [
    "for i in range(9):\n",
    "    print(2**i)"
   ]
  },
  {
   "cell_type": "code",
   "execution_count": 51,
   "metadata": {},
   "outputs": [
    {
     "name": "stdout",
     "output_type": "stream",
     "text": [
      "10011100000011\n"
     ]
    }
   ],
   "source": [
    "num = 12345\n",
    "result = ''\n",
    "if num == 0:\n",
    "    result = '0'\n",
    "while num > 0:\n",
    "    result += str(num%2)\n",
    "    num = num //2 \n",
    "print(result)"
   ]
  },
  {
   "cell_type": "code",
   "execution_count": null,
   "metadata": {},
   "outputs": [],
   "source": [
    "a=2\n",
    "b=4\n",
    "c=6\n",
    "total = (a+b)*c\n",
    "print(total)"
   ]
  },
  {
   "cell_type": "code",
   "execution_count": null,
   "metadata": {},
   "outputs": [],
   "source": [
    "number = int(input(\"enter a number:\"))\n",
    "if number > 0:\n",
    "    print('Positive')\n",
    "elif number < 0:\n",
    "    print('Negative')\n",
    "else:\n",
    "    print('Zero')"
   ]
  },
  {
   "cell_type": "code",
   "execution_count": null,
   "metadata": {},
   "outputs": [],
   "source": [
    "N = int(input('Enter a number'))\n",
    "for i in range(N+1):\n",
    "    print(\"Hello World\")"
   ]
  },
  {
   "cell_type": "code",
   "execution_count": null,
   "metadata": {},
   "outputs": [],
   "source": [
    "N = int(input(\"Enter a number:\"))\n",
    "i = 1\n",
    "while i**3 < N:\n",
    "    i +=1\n",
    "if i**3 == N:\n",
    "    print(f'The cube root of {N} is {i}')\n",
    "else:\n",
    "    print('Error')"
   ]
  },
  {
   "cell_type": "code",
   "execution_count": null,
   "metadata": {},
   "outputs": [],
   "source": [
    "my_str = \"abcdefghi\"\n",
    "my_str1 = ''\n",
    "for i in range(len(my_str)):\n",
    "    if i % 2 == 0:\n",
    "        my_str1 += my_str[i]\n",
    "print(my_str1)"
   ]
  },
  {
   "cell_type": "code",
   "execution_count": 7,
   "metadata": {},
   "outputs": [
    {
     "name": "stdout",
     "output_type": "stream",
     "text": [
      "Enter your yearly salary: 112000.0\n",
      "Enter the percent of your salary to save, as a decimal: 0.17\n",
      "Enter the cost of your dream house: 750000.0\n",
      "97\n"
     ]
    }
   ],
   "source": [
    "yearly_salary = float(input(\"Enter your yearly salary\"))\n",
    "portion_saved = float(input(\"Enter the percent of your salary to save, as a decimal:\"))\n",
    "cost_of_dream_home = float(int(input('Enter the cost of your dream house:')))\n",
    "\n",
    "portion_of_down_payment = 0.25\n",
    "amount_saved = 0\n",
    "r = 0.05\n",
    "month = 0\n",
    "\n",
    "while amount_saved < (cost_of_dream_home * portion_of_down_payment):\n",
    "    amount_saved = amount_saved + ((yearly_salary / 12) * portion_saved) + (amount_saved * (r/12))\n",
    "    month +=1\n",
    "\n",
    "print('Enter your yearly salary:',yearly_salary)\n",
    "print(\"Enter the percent of your salary to save, as a decimal:\",portion_saved)\n",
    "print('Enter the cost of your dream house:',cost_of_dream_home)\n",
    "print(month)"
   ]
  },
  {
   "cell_type": "code",
   "execution_count": 5,
   "metadata": {},
   "outputs": [
    {
     "name": "stdout",
     "output_type": "stream",
     "text": [
      "Enter your yearly salary: 171376.41582608412\n",
      "Enter the percent of your salary to save, as a decimal: 0.15\n",
      "Enter the cost of your dream house: 750000.0\n",
      "Enter the annual raise: 0.03\n",
      "Number of months: 92\n"
     ]
    }
   ],
   "source": [
    "yearly_salary = float(input(\"Enter your yearly salary\"))\n",
    "portion_saved = float(input(\"Enter the percent of your salary to save, as a decimal:\"))\n",
    "cost_of_dream_home = float(input('Enter the cost of your dream house:'))\n",
    "semi_annual_raise = float(input('Enter the annual raise:'))\n",
    "\n",
    "portion_of_down_payment = 0.25\n",
    "amount_saved = 0\n",
    "r = 0.05\n",
    "month = 0\n",
    "\n",
    "while amount_saved < (cost_of_dream_home * portion_of_down_payment):\n",
    "    amount_saved = amount_saved + ((yearly_salary / 12 )* portion_saved) + (amount_saved * (r/12))\n",
    "    month +=1\n",
    "\n",
    "    if month % 6 == 0:\n",
    "        yearly_salary += (yearly_salary*semi_annual_raise)\n",
    "        \n",
    "print('Enter your yearly salary:',yearly_salary)\n",
    "print(\"Enter the percent of your salary to save, as a decimal:\",portion_saved)\n",
    "print('Enter the cost of your dream house:',cost_of_dream_home)\n",
    "print('Enter the annual raise:',semi_annual_raise)\n",
    "print('Number of months:',month)"
   ]
  },
  {
   "cell_type": "code",
   "execution_count": null,
   "metadata": {},
   "outputs": [],
   "source": []
  }
 ],
 "metadata": {
  "kernelspec": {
   "display_name": "Python 3",
   "language": "python",
   "name": "python3"
  },
  "language_info": {
   "codemirror_mode": {
    "name": "ipython",
    "version": 3
   },
   "file_extension": ".py",
   "mimetype": "text/x-python",
   "name": "python",
   "nbconvert_exporter": "python",
   "pygments_lexer": "ipython3",
   "version": "3.12.3"
  }
 },
 "nbformat": 4,
 "nbformat_minor": 2
}
